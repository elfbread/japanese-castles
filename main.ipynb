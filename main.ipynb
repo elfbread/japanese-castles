{
 "cells": [
  {
   "cell_type": "code",
   "execution_count": 16,
   "metadata": {},
   "outputs": [],
   "source": [
    "import pandas as pd\n",
    "import numpy as np\n",
    "import requests\n",
    "import lxml\n",
    "from bs4 import BeautifulSoup"
   ]
  },
  {
   "cell_type": "code",
   "execution_count": 23,
   "metadata": {},
   "outputs": [
    {
     "name": "stdout",
     "output_type": "stream",
     "text": [
      "200\n"
     ]
    }
   ],
   "source": [
    "# pull in table of castles from wikipedia\n",
    "\n",
    "wikiurl=\"https://en.wikipedia.org/wiki/100_Fine_Castles_of_Japan\"\n",
    "table_class=\"wikitable sortable jquery-tablesorter\"\n",
    "response=requests.get(wikiurl)\n",
    "print(response.status_code)"
   ]
  },
  {
   "cell_type": "code",
   "execution_count": 18,
   "metadata": {},
   "outputs": [],
   "source": [
    "# parse data from html to beautifulsoup object\n",
    "soup = BeautifulSoup(response.text, 'html.parser')\n",
    "castletable=soup.find('table',{'class':\"wikitable\"})"
   ]
  },
  {
   "cell_type": "code",
   "execution_count": 19,
   "metadata": {},
   "outputs": [
    {
     "name": "stdout",
     "output_type": "stream",
     "text": [
      "                                    Name Prefecture      City  \\\n",
      "0  Nemuro Peninsula Chashi Site根室半島チャシ跡群   Hokkaido    Nemuro   \n",
      "1                           Goryōkaku五稜郭   Hokkaido  Hakodate   \n",
      "2                     Matsumae Castle松前城   Hokkaido  Matsumae   \n",
      "\n",
      "           Year completed                    Built by  Photo  \n",
      "0  From the 16Cto the 18C            Ainu peopleアイヌ民族    NaN  \n",
      "1                    1866  Tokugawa shogunate徳川軍和新政府軍    NaN  \n",
      "2                    1606      Matsumae Takahiro松前 崇広    NaN  \n"
     ]
    }
   ],
   "source": [
    "df=pd.read_html(str(castletable))\n",
    "df=pd.DataFrame(df[0])\n",
    "print(df.head())"
   ]
  },
  {
   "cell_type": "code",
   "execution_count": 20,
   "metadata": {},
   "outputs": [
    {
     "data": {
      "text/plain": [
       "3"
      ]
     },
     "execution_count": 20,
     "metadata": {},
     "output_type": "execute_result"
    }
   ],
   "source": [
    "len(df.index)"
   ]
  },
  {
   "cell_type": "code",
   "execution_count": 6,
   "metadata": {},
   "outputs": [
    {
     "name": "stdout",
     "output_type": "stream",
     "text": [
      "                                    Name Prefecture      City  \\\n",
      "0  Nemuro Peninsula Chashi Site根室半島チャシ跡群   Hokkaido    Nemuro   \n",
      "1                           Goryōkaku五稜郭   Hokkaido  Hakodate   \n",
      "2                     Matsumae Castle松前城   Hokkaido  Matsumae   \n",
      "\n",
      "           Year completed                    Built by  \n",
      "0  From the 16Cto the 18C            Ainu peopleアイヌ民族  \n",
      "1                    1866  Tokugawa shogunate徳川軍和新政府軍  \n",
      "2                    1606      Matsumae Takahiro松前 崇広  \n"
     ]
    }
   ],
   "source": [
    "# dropping unwanted columns\n",
    "data = df.drop([\"Photo\"], axis=1)\n",
    "print(data.head())"
   ]
  },
  {
   "cell_type": "code",
   "execution_count": 8,
   "metadata": {},
   "outputs": [
    {
     "name": "stdout",
     "output_type": "stream",
     "text": [
      "                   Name Date Visited\n",
      "0     Sakura Castle 佐倉城   08/28/2022\n",
      "1        Edo Castle 江戸城   08/21/2022\n",
      "2  Hachiōji Castle 八王子城   06/11/2022\n",
      "3   Odawara Castle 小田原城   05/29/2022\n",
      "4       Nijō Castle 二条城   10/03/2022\n"
     ]
    }
   ],
   "source": [
    "# import visit log data set\n",
    "visit = pd.read_csv('https://docs.google.com/spreadsheets/d/e/2PACX-1vQX5jkdr_nwkfajw8y36HD3JbVrtc9NwVGkA5lEExuYGZ-ZBU4ubQeqJUChz8bzfJHvnUc5LGN8UwrH/pub?output=csv')\n",
    "print(visit.head())"
   ]
  },
  {
   "cell_type": "code",
   "execution_count": 11,
   "metadata": {},
   "outputs": [
    {
     "name": "stdout",
     "output_type": "stream",
     "text": [
      "                                    Name Prefecture      City  \\\n",
      "0  Nemuro Peninsula Chashi Site根室半島チャシ跡群   Hokkaido    Nemuro   \n",
      "1                           Goryōkaku五稜郭   Hokkaido  Hakodate   \n",
      "2                     Matsumae Castle松前城   Hokkaido  Matsumae   \n",
      "\n",
      "           Year completed                    Built by Date Visited  \n",
      "0  From the 16Cto the 18C            Ainu peopleアイヌ民族          NaN  \n",
      "1                    1866  Tokugawa shogunate徳川軍和新政府軍          NaN  \n",
      "2                    1606      Matsumae Takahiro松前 崇広          NaN  \n"
     ]
    }
   ],
   "source": [
    "# merge datasets on name\n",
    "\n",
    "df = data.merge(visit,\n",
    "how='left',\n",
    "left_on='Name',\n",
    "right_on='Name')\n",
    "print(df)"
   ]
  },
  {
   "cell_type": "code",
   "execution_count": 12,
   "metadata": {},
   "outputs": [],
   "source": [
    "# export final dataset for tableau\n",
    "df.to_excel('castles.xlsx', index=False)"
   ]
  }
 ],
 "metadata": {
  "kernelspec": {
   "display_name": "Python 3.10.1 64-bit",
   "language": "python",
   "name": "python3"
  },
  "language_info": {
   "codemirror_mode": {
    "name": "ipython",
    "version": 3
   },
   "file_extension": ".py",
   "mimetype": "text/x-python",
   "name": "python",
   "nbconvert_exporter": "python",
   "pygments_lexer": "ipython3",
   "version": "3.10.1"
  },
  "orig_nbformat": 4,
  "vscode": {
   "interpreter": {
    "hash": "bac4e17d0ad652fe572f7303b15392f2c4cb3e88fc6e44da7a2e494303c18aa2"
   }
  }
 },
 "nbformat": 4,
 "nbformat_minor": 2
}
