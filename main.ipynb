{
 "cells": [
  {
   "cell_type": "code",
   "execution_count": 93,
   "metadata": {},
   "outputs": [],
   "source": [
    "import pandas as pd\n",
    "import numpy as np\n",
    "import requests\n",
    "import lxml\n",
    "from bs4 import BeautifulSoup\n",
    "import urllib\n",
    "import ssl"
   ]
  },
  {
   "cell_type": "code",
   "execution_count": 95,
   "metadata": {},
   "outputs": [
    {
     "name": "stdout",
     "output_type": "stream",
     "text": [
      "200\n",
      "<http.client.HTTPResponse object at 0x000001DFF24C1810>\n"
     ]
    }
   ],
   "source": [
    "def main():\n",
    "    ssl._create_default_https_context = ssl._create_unverified_context\n",
    "    r = urllib.request.urlopen('https://en.wikipedia.org/wiki/100_Fine_Castles_of_Japan')\n",
    "    print(r.status)\n",
    "    print(r)\n",
    "\n",
    "if __name__ == '__main__':\n",
    "    main()"
   ]
  },
  {
   "cell_type": "code",
   "execution_count": 96,
   "metadata": {},
   "outputs": [
    {
     "name": "stdout",
     "output_type": "stream",
     "text": [
      "Total tables: 10\n"
     ]
    }
   ],
   "source": [
    "url=\"https://en.wikipedia.org/wiki/100_Fine_Castles_of_Japan\"\n",
    "df = pd.read_html(url, match='Name')\n",
    "\n",
    "print(f'Total tables: {len(df)}')"
   ]
  },
  {
   "cell_type": "code",
   "execution_count": 97,
   "metadata": {},
   "outputs": [],
   "source": [
    "url = \"https://en.wikipedia.org/wiki/100_Fine_Castles_of_Japan\"\n",
    "data = requests.get(url).text"
   ]
  },
  {
   "cell_type": "code",
   "execution_count": 98,
   "metadata": {},
   "outputs": [],
   "source": [
    "# creating bs object\n",
    "soup = BeautifulSoup(data, 'html.parser')"
   ]
  },
  {
   "cell_type": "code",
   "execution_count": 99,
   "metadata": {},
   "outputs": [
    {
     "name": "stdout",
     "output_type": "stream",
     "text": [
      "Classes of each table:\n",
      "['wikitable']\n",
      "['wikitable']\n",
      "['wikitable']\n",
      "['wikitable']\n",
      "['wikitable']\n",
      "['wikitable']\n",
      "['wikitable']\n",
      "['wikitable']\n",
      "['wikitable']\n",
      "['wikitable']\n",
      "['nowraplinks', 'hlist', 'mw-collapsible', 'autocollapse', 'navbox-inner']\n"
     ]
    }
   ],
   "source": [
    "print('Classes of each table:')\n",
    "for table in soup.find_all('table'):\n",
    "    print(table.get('class'))"
   ]
  },
  {
   "cell_type": "code",
   "execution_count": 112,
   "metadata": {},
   "outputs": [],
   "source": [
    "tables = soup.find_all('table')\n",
    "table = soup.find_all('table', class_='wikitable')\n",
    "df = pd.read_html(str(table))[9]"
   ]
  },
  {
   "cell_type": "code",
   "execution_count": 106,
   "metadata": {},
   "outputs": [
    {
     "data": {
      "text/plain": [
       "pandas.core.frame.DataFrame"
      ]
     },
     "execution_count": 106,
     "metadata": {},
     "output_type": "execute_result"
    }
   ],
   "source": [
    "type(df)"
   ]
  },
  {
   "cell_type": "code",
   "execution_count": 113,
   "metadata": {},
   "outputs": [
    {
     "data": {
      "text/plain": [
       "3"
      ]
     },
     "execution_count": 113,
     "metadata": {},
     "output_type": "execute_result"
    }
   ],
   "source": [
    "len(df.index)"
   ]
  },
  {
   "cell_type": "markdown",
   "metadata": {},
   "source": [
    "Important below"
   ]
  },
  {
   "cell_type": "code",
   "execution_count": null,
   "metadata": {},
   "outputs": [],
   "source": [
    "# import visit log data set\n",
    "visit = pd.read_csv('https://docs.google.com/spreadsheets/d/e/2PACX-1vQX5jkdr_nwkfajw8y36HD3JbVrtc9NwVGkA5lEExuYGZ-ZBU4ubQeqJUChz8bzfJHvnUc5LGN8UwrH/pub?output=csv')\n",
    "print(visit.head())"
   ]
  },
  {
   "cell_type": "code",
   "execution_count": null,
   "metadata": {},
   "outputs": [],
   "source": [
    "# merge datasets on name\n",
    "\n",
    "df = data.merge(visit,\n",
    "how='left',\n",
    "left_on='Name',\n",
    "right_on='Name')\n",
    "print(df)"
   ]
  }
 ],
 "metadata": {
  "kernelspec": {
   "display_name": "Python 3.10.1 64-bit",
   "language": "python",
   "name": "python3"
  },
  "language_info": {
   "codemirror_mode": {
    "name": "ipython",
    "version": 3
   },
   "file_extension": ".py",
   "mimetype": "text/x-python",
   "name": "python",
   "nbconvert_exporter": "python",
   "pygments_lexer": "ipython3",
   "version": "3.10.1"
  },
  "orig_nbformat": 4,
  "vscode": {
   "interpreter": {
    "hash": "bac4e17d0ad652fe572f7303b15392f2c4cb3e88fc6e44da7a2e494303c18aa2"
   }
  }
 },
 "nbformat": 4,
 "nbformat_minor": 2
}
