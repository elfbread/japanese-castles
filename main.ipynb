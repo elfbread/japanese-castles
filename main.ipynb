{
 "cells": [
  {
   "cell_type": "code",
   "execution_count": 1,
   "metadata": {},
   "outputs": [],
   "source": [
    "import pandas as pd\n",
    "import numpy as np\n",
    "import requests\n",
    "import lxml\n",
    "from bs4 import BeautifulSoup"
   ]
  },
  {
   "cell_type": "code",
   "execution_count": 2,
   "metadata": {},
   "outputs": [
    {
     "name": "stdout",
     "output_type": "stream",
     "text": [
      "200\n"
     ]
    }
   ],
   "source": [
    "# pull in table of castles from wikipedia\n",
    "\n",
    "wikiurl=\"https://en.wikipedia.org/wiki/100_Fine_Castles_of_Japan\"\n",
    "table_class=\"wikitable sortable jquery-tablesorter\"\n",
    "response=requests.get(wikiurl)\n",
    "print(response.status_code)"
   ]
  },
  {
   "cell_type": "code",
   "execution_count": 3,
   "metadata": {},
   "outputs": [],
   "source": [
    "# parse data from html to beautifulsoup object\n",
    "soup = BeautifulSoup(response.text, 'html.parser')\n",
    "castletable=soup.find('table',{'class':\"wikitable\"})"
   ]
  },
  {
   "cell_type": "code",
   "execution_count": 5,
   "metadata": {},
   "outputs": [
    {
     "name": "stdout",
     "output_type": "stream",
     "text": [
      "                                    Name Prefecture      City  \\\n",
      "0  Nemuro Peninsula Chashi Site根室半島チャシ跡群   Hokkaido    Nemuro   \n",
      "1                           Goryōkaku五稜郭   Hokkaido  Hakodate   \n",
      "2                     Matsumae Castle松前城   Hokkaido  Matsumae   \n",
      "\n",
      "           Year completed                    Built by  Photo  \n",
      "0  From the 16Cto the 18C            Ainu peopleアイヌ民族    NaN  \n",
      "1                    1866  Tokugawa shogunate徳川軍和新政府軍    NaN  \n",
      "2                    1606      Matsumae Takahiro松前 崇広    NaN  \n"
     ]
    }
   ],
   "source": [
    "df=pd.read_html(str(castletable))\n",
    "df=pd.DataFrame(df[0])\n",
    "print(df.head())"
   ]
  }
 ],
 "metadata": {
  "kernelspec": {
   "display_name": "Python 3.10.1 64-bit",
   "language": "python",
   "name": "python3"
  },
  "language_info": {
   "codemirror_mode": {
    "name": "ipython",
    "version": 3
   },
   "file_extension": ".py",
   "mimetype": "text/x-python",
   "name": "python",
   "nbconvert_exporter": "python",
   "pygments_lexer": "ipython3",
   "version": "3.10.1"
  },
  "orig_nbformat": 4,
  "vscode": {
   "interpreter": {
    "hash": "bac4e17d0ad652fe572f7303b15392f2c4cb3e88fc6e44da7a2e494303c18aa2"
   }
  }
 },
 "nbformat": 4,
 "nbformat_minor": 2
}
